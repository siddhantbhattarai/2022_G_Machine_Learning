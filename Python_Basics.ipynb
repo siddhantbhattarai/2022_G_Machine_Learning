{
 "cells": [
  {
   "cell_type": "markdown",
   "id": "c02e0ab6",
   "metadata": {},
   "source": [
    "### Python Crash Course\n",
    "This notebook will just go through the basic topics in order:\n",
    "\n",
    "- Print Statements\n",
    "- Data types\n",
    "    - Numbers\n",
    "    - Strings\n",
    "    - Lists\n",
    "    - Dictionaries\n",
    "    - Booleans\n",
    "    - Tuples\n",
    "    - Sets\n",
    "- Comparison Operators\n",
    "- if,elif, else Statements\n",
    "- for Loops\n",
    "- while Loops\n",
    "- range()\n",
    "- list comprehension\n",
    "- functions\n",
    "- lambda expressions\n",
    "- map and filter\n",
    "- methods"
   ]
  },
  {
   "cell_type": "markdown",
   "id": "96965922",
   "metadata": {},
   "source": [
    "- Python is an interpreted, object-oriented, high-level programming language with dynamic semantics developed by Guido van Rossum. It was originally released in 1991. Designed to be easy as well as fun, the name \"Python\" is a nod to the British comedy group Monty Python."
   ]
  },
  {
   "cell_type": "markdown",
   "id": "397d0788",
   "metadata": {},
   "source": [
    "**1. Print Statements**"
   ]
  },
  {
   "cell_type": "code",
   "execution_count": 1,
   "id": "a06dadce",
   "metadata": {},
   "outputs": [
    {
     "name": "stdout",
     "output_type": "stream",
     "text": [
      "Let's learn about Python Programming today!\n"
     ]
    }
   ],
   "source": [
    "print(\"Let's learn about Python Programming today!\")"
   ]
  },
  {
   "cell_type": "code",
   "execution_count": 2,
   "id": "069180f2",
   "metadata": {},
   "outputs": [
    {
     "name": "stdout",
     "output_type": "stream",
     "text": [
      "10\n",
      "Ram\n"
     ]
    }
   ],
   "source": [
    "# Let's create two variables and print them\n",
    "x = 10\n",
    "y = \"Ram\"\n",
    "print(x)\n",
    "print(y)"
   ]
  },
  {
   "cell_type": "code",
   "execution_count": 3,
   "id": "cb619a3c",
   "metadata": {},
   "outputs": [
    {
     "name": "stdout",
     "output_type": "stream",
     "text": [
      "Lora is 22 years old.\n"
     ]
    }
   ],
   "source": [
    "# Using format method \n",
    "a = 22\n",
    "b = \"Lora\"\n",
    "print(\"{} is {} years old.\" .format(b, a))"
   ]
  },
  {
   "cell_type": "code",
   "execution_count": 10,
   "id": "8b3d9310",
   "metadata": {},
   "outputs": [
    {
     "name": "stdout",
     "output_type": "stream",
     "text": [
      "Lora is 22 years old.\n"
     ]
    }
   ],
   "source": [
    "# Using Concatenation method\n",
    "print(b +\" is \" + str(a) + \" years old.\")"
   ]
  },
  {
   "cell_type": "code",
   "execution_count": 8,
   "id": "008d4ee3",
   "metadata": {},
   "outputs": [
    {
     "data": {
      "text/plain": [
       "22"
      ]
     },
     "execution_count": 8,
     "metadata": {},
     "output_type": "execute_result"
    }
   ],
   "source": [
    "a"
   ]
  },
  {
   "cell_type": "code",
   "execution_count": 9,
   "id": "b3842ff7",
   "metadata": {},
   "outputs": [
    {
     "data": {
      "text/plain": [
       "'Lora'"
      ]
     },
     "execution_count": 9,
     "metadata": {},
     "output_type": "execute_result"
    }
   ],
   "source": [
    "b"
   ]
  },
  {
   "cell_type": "code",
   "execution_count": 11,
   "id": "2279a007",
   "metadata": {},
   "outputs": [
    {
     "name": "stdout",
     "output_type": "stream",
     "text": [
      "Lora is 22 years old.\n"
     ]
    }
   ],
   "source": [
    "# Using older % string formatting method\n",
    "print(\"%s is %d years old.\" %(b,a))"
   ]
  },
  {
   "cell_type": "code",
   "execution_count": 12,
   "id": "ea6a3a59",
   "metadata": {},
   "outputs": [
    {
     "name": "stdout",
     "output_type": "stream",
     "text": [
      "Lora is 22 years old.\n"
     ]
    }
   ],
   "source": [
    "# Let's use string formatting method\n",
    "print(f\"{b} is {a} years old.\")"
   ]
  },
  {
   "cell_type": "markdown",
   "id": "267e6c21",
   "metadata": {},
   "source": [
    "### 2. Data types\n",
    "- A data type is an attribute associated with a piece of data that tells a computer system how to interpret its value. Understanding data types ensures that data is collected in the preferred format and the value of each property is as expected."
   ]
  },
  {
   "cell_type": "markdown",
   "id": "61aa7765",
   "metadata": {},
   "source": [
    "**2.1 Numbers**\n",
    "- The number data type is a primitive data type represented by the number 1 in the database dictionary. A number indicates an amount and can be either a whole number, a positive or negative number, or a floating point number.\n",
    "- Exercise Link: https://www.learnpython.org/en/Variables_and_Types"
   ]
  },
  {
   "cell_type": "code",
   "execution_count": 13,
   "id": "0ff3acca",
   "metadata": {},
   "outputs": [
    {
     "name": "stdout",
     "output_type": "stream",
     "text": [
      "The addition of 20 and 60 is 80.\n",
      "The subtraction of 20 from 60 is 40.\n",
      "The multiplication of 20 and 60 is 1200.\n",
      "The division of 20 from 60 is 3.0.\n",
      "The reminder of 20 from 60 is 0.\n"
     ]
    }
   ],
   "source": [
    "m = 20\n",
    "n = 60\n",
    "print(f\"The addition of {m} and {n} is {m + n}.\")\n",
    "print(f\"The subtraction of {m} from {n} is {n - m}.\")\n",
    "print(f\"The multiplication of {m} and {n} is {m * n}.\")\n",
    "print(f\"The division of {m} from {n} is {n / m}.\")\n",
    "print(f\"The reminder of {m} from {n} is {n % m}.\")"
   ]
  },
  {
   "cell_type": "code",
   "execution_count": 16,
   "id": "b4f07c9b",
   "metadata": {},
   "outputs": [
    {
     "name": "stdout",
     "output_type": "stream",
     "text": [
      "Enter the temperature in celsius: 37\n",
      "37 degree celsius is 98.6 degree Fahrenheit.\n"
     ]
    }
   ],
   "source": [
    "# Temperature Conversion\n",
    "celsius = int(input(\"Enter the temperature in celsius: \"))\n",
    "fahrenheit = (celsius * 9/5) + 32\n",
    "print(f\"{celsius} degree celsius is {fahrenheit} degree Fahrenheit.\")"
   ]
  },
  {
   "cell_type": "code",
   "execution_count": 17,
   "id": "bd74b99c",
   "metadata": {},
   "outputs": [
    {
     "name": "stdout",
     "output_type": "stream",
     "text": [
      "3.14\n"
     ]
    }
   ],
   "source": [
    "# Rounding float number\n",
    "pi = 3.14159\n",
    "rounded_pi = round(pi, 2)\n",
    "print(rounded_pi)"
   ]
  },
  {
   "cell_type": "code",
   "execution_count": 18,
   "id": "2f202acd",
   "metadata": {},
   "outputs": [
    {
     "name": "stdout",
     "output_type": "stream",
     "text": [
      "Simple Interest: 10000.0\n"
     ]
    }
   ],
   "source": [
    "# Simple Interest Calculation\n",
    "principal = 100000\n",
    "rate = 5 \n",
    "time = 2\n",
    "simple_interest = (principal * time * rate) / 100\n",
    "print(\"Simple Interest:\", simple_interest)"
   ]
  },
  {
   "cell_type": "code",
   "execution_count": 21,
   "id": "05f4c5cc",
   "metadata": {},
   "outputs": [
    {
     "name": "stdout",
     "output_type": "stream",
     "text": [
      "BMI: 24.49\n"
     ]
    }
   ],
   "source": [
    "# Body Mass Index (BMI) Calculation\n",
    "weight_kg = 75\n",
    "height_m = 1.75\n",
    "bmi = weight_kg / (height_m ** 2)\n",
    "print(f\"BMI: {bmi:.2f}\")"
   ]
  },
  {
   "cell_type": "markdown",
   "id": "1d771e86",
   "metadata": {},
   "source": [
    "**2.2 String**\n",
    "- A string is generally considered as a data type and is often implemented as an array data structure of bytes (or words) that stores a sequence of elements, typically characters, using some character encoding. String may also denote more general arrays or other sequence (or list) data types and structures."
   ]
  },
  {
   "cell_type": "code",
   "execution_count": 5,
   "id": "51cdcf29",
   "metadata": {},
   "outputs": [
    {
     "name": "stdout",
     "output_type": "stream",
     "text": [
      "Hello, World! My name is Siddhant.\n",
      "ISMT ISMT ISMT ISMT ISMT \n",
      "8\n"
     ]
    }
   ],
   "source": [
    "# String creation and basic operations:\n",
    "name = \"Siddhant\"\n",
    "greeting = \"Hello, World!\"\n",
    "\n",
    "# String concatenation\n",
    "full_greeting = greeting + ' My name is ' + name + '.'\n",
    "print(full_greeting)\n",
    "\n",
    "# String repetition\n",
    "repeated_word = \"ISMT \" * 5\n",
    "print(repeated_word)\n",
    "\n",
    "# String length\n",
    "print(len(name))"
   ]
  },
  {
   "cell_type": "code",
   "execution_count": 15,
   "id": "a0461b4e",
   "metadata": {},
   "outputs": [
    {
     "name": "stdout",
     "output_type": "stream",
     "text": [
      "First Character: P, Last Character: !\n",
      "Subtring: Programming i\n",
      "Reversed String: !emosewA si gnimmargorP nohtyP\n"
     ]
    }
   ],
   "source": [
    "# String indexing and slicing:\n",
    "text = \"Python Programming is Awesome!\"\n",
    "\n",
    "# Indexing\n",
    "first_char = text[0]\n",
    "last_char = text[-1]\n",
    "print(f\"First Character: {first_char}, Last Character: {last_char}\")\n",
    "\n",
    "# Slicing \n",
    "substring = text[7:20]\n",
    "print(f\"Subtring: {substring}\")\n",
    "\n",
    "# Reverse string\n",
    "reversed_text = text[::-1]\n",
    "print(f\"Reversed String: {reversed_text}\")"
   ]
  },
  {
   "cell_type": "code",
   "execution_count": 26,
   "id": "11f876f6",
   "metadata": {},
   "outputs": [
    {
     "name": "stdout",
     "output_type": "stream",
     "text": [
      "Stripped: 'Hello, python learners!'\n",
      "Uppercase:    HELLO, PYTHON LEARNERS!  \n",
      "Lowercase:    hello, python learners!  \n",
      "Title:    Hello, Python Learners!  \n",
      "New Message after replaced:   Hello, Amazing Python learners!  \n",
      "Split Words: ['Hello,', 'python', 'learners!']\n"
     ]
    }
   ],
   "source": [
    "# String methods:\n",
    "message = \"   Hello, python learners!  \"\n",
    "\n",
    "# String whitespace\n",
    "stripped = message.strip()\n",
    "print(f\"Stripped: '{stripped}'\")\n",
    "\n",
    "# Change case\n",
    "upper = message.upper()\n",
    "lower = message.lower()\n",
    "title = message.title()\n",
    "print(f\"Uppercase: {upper}\")\n",
    "print(f\"Lowercase: {lower}\")\n",
    "print(f\"Title: {title}\")\n",
    "\n",
    "# Replace \n",
    "new_message = message.replace(\"python\", \"Amazing Python\")\n",
    "print(f\"New Message after replaced:{new_message}\")\n",
    "\n",
    "# Split\n",
    "words = message.split()\n",
    "print(f\"Split Words: {words}\")"
   ]
  },
  {
   "cell_type": "code",
   "execution_count": 27,
   "id": "d5ed54df",
   "metadata": {},
   "outputs": [
    {
     "name": "stdout",
     "output_type": "stream",
     "text": [
      "Bob is 30 years old and 1.75 meters tall.\n",
      "Bob is 30 years old and 1.75 meters tall.\n",
      "Bob is 30 years old and 1.75 meters tall.\n"
     ]
    }
   ],
   "source": [
    "# String formatting:\n",
    "name = \"Bob\"\n",
    "age = 30\n",
    "height = 1.75\n",
    "\n",
    "# Using f-strings\n",
    "print(f\"{name} is {age} years old and {height:.2f} meters tall.\")\n",
    "\n",
    "# Using .format() method\n",
    "print(\"{} is {} years old and {:.2f} meters tall.\".format(name, age, height))\n",
    "\n",
    "# Using % operator (older style)\n",
    "print(\"%s is %d years old and %.2f meters tall.\" % (name, age, height))"
   ]
  },
  {
   "cell_type": "code",
   "execution_count": 32,
   "id": "28440123",
   "metadata": {},
   "outputs": [
    {
     "name": "stdout",
     "output_type": "stream",
     "text": [
      "True\n",
      "False\n",
      "True\n",
      "True\n",
      "True\n",
      "7\n",
      "True\n"
     ]
    }
   ],
   "source": [
    "# String checking methods:\n",
    "\n",
    "text = \"Python is awesome!\"\n",
    "\n",
    "# Check if string starts or ends with a subtring \n",
    "print(text.startswith(\"Python\"))\n",
    "print(text.endswith(\"awesome\"))\n",
    "\n",
    "# Check if string contains only letters, numbers, or both\n",
    "print(\"abc123\".isalnum())\n",
    "print(\"abc\".isalpha())\n",
    "print(\"123\".isnumeric())\n",
    "\n",
    "# Find a substring\n",
    "print(text.find(\"is\"))\n",
    "print(\"is\" in text)"
   ]
  },
  {
   "cell_type": "markdown",
   "id": "ca5027bc",
   "metadata": {},
   "source": [
    "**2.3 Lists**\n",
    "- A list is a data structure in Python that is a mutable, or changeable, ordered sequence of elements. Each element or value that is inside of a list is called an item. Just as strings are defined as characters between quotes, lists are defined by having values between square brackets [ ] ."
   ]
  },
  {
   "cell_type": "code",
   "execution_count": 2,
   "id": "99673df0",
   "metadata": {},
   "outputs": [
    {
     "name": "stdout",
     "output_type": "stream",
     "text": [
      "1\n",
      "True\n",
      "[2, 3, 4]\n"
     ]
    }
   ],
   "source": [
    "# Creating a list\n",
    "empty_list = []\n",
    "numbers_list = [1, 2, 3, 4, 5]\n",
    "movies_list = ['RRR', 'Kalki', 'Tarzan', 'The Consuring']\n",
    "mixed_list = [1, 'Bahubali', 3.14, True]\n",
    "\n",
    "# Accessing elements (indexing starts with 0)\n",
    "print(numbers_list[0])\n",
    "print(mixed_list[-1])\n",
    "\n",
    "# Slicing \n",
    "print(numbers_list[1:4])"
   ]
  },
  {
   "cell_type": "code",
   "execution_count": 15,
   "id": "32036f5c",
   "metadata": {},
   "outputs": [
    {
     "name": "stdout",
     "output_type": "stream",
     "text": [
      "The list of fruits after addition: \n",
      "['apple', 'blueberry', 'banana', 'cherry', 'Dragon Fruit', 'kiwi', 'emuberry', 'elderberry', 'fig']\n"
     ]
    }
   ],
   "source": [
    "# List Methods and Operations:\n",
    "fruits = ['apple', 'banana', 'cherry', 'Dragon Fruit', 'kiwi']\n",
    "\n",
    "# Adding elements \n",
    "fruits.append('emuberry')\n",
    "fruits.insert(1, 'blueberry')\n",
    "fruits.extend(['elderberry', 'fig'])\n",
    "\n",
    "print(f\"The list of fruits after addition: \\n{fruits}\")"
   ]
  },
  {
   "cell_type": "code",
   "execution_count": 16,
   "id": "3fe107b4",
   "metadata": {},
   "outputs": [
    {
     "name": "stdout",
     "output_type": "stream",
     "text": [
      "fig\n",
      "The list after removal: ['apple', 'blueberry', 'Dragon Fruit', 'kiwi', 'emuberry', 'elderberry']\n"
     ]
    }
   ],
   "source": [
    "# Removing elements\n",
    "fruits.remove('banana')\n",
    "popped_fruit = fruits.pop() # Removes and Return last element\n",
    "del fruits[2]\n",
    "print(popped_fruit)\n",
    "print(f\"The list after removal: {fruits}\")"
   ]
  },
  {
   "cell_type": "code",
   "execution_count": 18,
   "id": "2153d723",
   "metadata": {},
   "outputs": [
    {
     "name": "stdout",
     "output_type": "stream",
     "text": [
      "6\n",
      "4\n",
      "1\n"
     ]
    }
   ],
   "source": [
    "# Other useful methods\n",
    "print(len(fruits)) # find the length of list\n",
    "print(fruits.index('emuberry')) # Find index of element\n",
    "print(fruits.count('kiwi')) # occurance of element"
   ]
  },
  {
   "cell_type": "code",
   "execution_count": 33,
   "id": "6af54706",
   "metadata": {},
   "outputs": [
    {
     "name": "stdout",
     "output_type": "stream",
     "text": [
      "['Kalki', 'RRR', 'Tarzan', 'The Consuring']\n",
      "['Kalki', 'RRR', 'Tarzan', 'The Consuring']\n"
     ]
    }
   ],
   "source": [
    "# Sorting\n",
    "movies_list = ['RRR', 'Kalki', 'Tarzan', 'The Consuring']\n",
    "movies_list.sort() # In-place sorting\n",
    "sorted_movies = sorted(movies_list) # using sorted()\n",
    "print(sorted_movies)\n",
    "print(movies_list)"
   ]
  },
  {
   "cell_type": "code",
   "execution_count": 35,
   "id": "7cddf15b",
   "metadata": {},
   "outputs": [
    {
     "name": "stdout",
     "output_type": "stream",
     "text": [
      "['The Consuring', 'Tarzan', 'RRR', 'Kalki']\n",
      "['Kalki', 'RRR', 'Tarzan', 'The Consuring']\n"
     ]
    }
   ],
   "source": [
    "# Reversing \n",
    "movies_list = ['Kalki', 'RRR', 'Tarzan', 'The Consuring']\n",
    "movies_list.reverse() # In-place reversal\n",
    "print(movies_list)\n",
    "reversed_movies_list = movies_list[::-1] # using slicing\n",
    "print(reversed_movies_list)"
   ]
  },
  {
   "cell_type": "code",
   "execution_count": 36,
   "id": "a8d5b4ef",
   "metadata": {},
   "outputs": [
    {
     "name": "stdout",
     "output_type": "stream",
     "text": [
      "[1, 4, 9, 16, 25]\n",
      "[2, 4]\n"
     ]
    }
   ],
   "source": [
    "# List Comprehensions: A concise way to create lists based on existing lists.\n",
    "numbers = [1, 2, 3, 4, 5]\n",
    "squares = [x**2 for x in numbers]\n",
    "even_numbers = [x for x in numbers if x % 2 == 0]\n",
    "print(squares)\n",
    "print(even_numbers)"
   ]
  },
  {
   "cell_type": "code",
   "execution_count": 38,
   "id": "e135e3cf",
   "metadata": {},
   "outputs": [
    {
     "name": "stdout",
     "output_type": "stream",
     "text": [
      "5\n"
     ]
    }
   ],
   "source": [
    "# Nested Lists: Lists can contain other lists, creating multi-dimensional structures.\n",
    "matrix = [[1,2,3], [4,5,6],[7,8,9]]\n",
    "print(matrix[1][1])"
   ]
  },
  {
   "cell_type": "code",
   "execution_count": 1,
   "id": "dc6b89fb",
   "metadata": {},
   "outputs": [
    {
     "name": "stdout",
     "output_type": "stream",
     "text": [
      "3 is in the list\n",
      "1\n",
      "2\n",
      "3\n",
      "4\n",
      "5\n",
      "Index: 0, Value: 1\n",
      "Index: 1, Value: 2\n",
      "Index: 2, Value: 3\n",
      "Index: 3, Value: 4\n",
      "Index: 4, Value: 5\n"
     ]
    }
   ],
   "source": [
    "# Common Operations\n",
    "numbers = [1, 2, 3, 4, 5]\n",
    "\n",
    "# Sum of all elements\n",
    "total = sum(numbers)\n",
    "\n",
    "# Finding min and max\n",
    "minimum = min(numbers)\n",
    "maximum = max(numbers)\n",
    "\n",
    "# Checking membership\n",
    "if 3 in numbers:\n",
    "    print(\"3 is in the list\")\n",
    "\n",
    "# Iterating through a list\n",
    "for num in numbers:\n",
    "    print(num)\n",
    "\n",
    "# Enumerating (getting index and value)\n",
    "for index, value in enumerate(numbers):\n",
    "    print(f\"Index: {index}, Value: {value}\")"
   ]
  },
  {
   "cell_type": "markdown",
   "id": "a0c474d5",
   "metadata": {},
   "source": [
    "1. TO-DO List using Lists"
   ]
  },
  {
   "cell_type": "code",
   "execution_count": 39,
   "id": "75b06cf4",
   "metadata": {},
   "outputs": [
    {
     "name": "stdout",
     "output_type": "stream",
     "text": [
      "Completed Task: Goto Home\n",
      "Remaining Tasks:\n",
      "1. Eating Rice\n",
      "2. Sleep\n",
      "3. wakeup\n"
     ]
    }
   ],
   "source": [
    "todo_list = ['Goto Home', 'Eating Rice', 'Sleep']\n",
    "\n",
    "# Add new task\n",
    "todo_list.append('wakeup')\n",
    "\n",
    "# Mark a task as complete \n",
    "completed_task = todo_list.pop(0)\n",
    "print(f\"Completed Task: {completed_task}\")\n",
    "\n",
    "# Show remaining tasks \n",
    "print(\"Remaining Tasks:\")\n",
    "for index, task in enumerate(todo_list, 1):\n",
    "    print(f\"{index}. {task}\")"
   ]
  },
  {
   "cell_type": "markdown",
   "id": "ddab685e",
   "metadata": {},
   "source": [
    "2. Student Grades:"
   ]
  },
  {
   "cell_type": "code",
   "execution_count": 40,
   "id": "ba313249",
   "metadata": {},
   "outputs": [
    {
     "name": "stdout",
     "output_type": "stream",
     "text": [
      "Average grade: 85.86\n",
      "Highest grade: 95\n",
      "Lowest grade: 76\n",
      "Number of students scoring above 80: 5\n"
     ]
    }
   ],
   "source": [
    "grades = [85, 90, 78, 88, 76, 95, 89]\n",
    "\n",
    "# Calculate average grade\n",
    "average_grade = sum(grades) / len(grades)\n",
    "print(f\"Average grade: {average_grade:.2f}\")\n",
    "\n",
    "# Find highest and lowest grades\n",
    "highest_grade = max(grades)\n",
    "lowest_grade = min(grades)\n",
    "print(f\"Highest grade: {highest_grade}\")\n",
    "print(f\"Lowest grade: {lowest_grade}\")\n",
    "\n",
    "# Count number of students who scored above 80\n",
    "above_80 = len([grade for grade in grades if grade > 80])\n",
    "print(f\"Number of students scoring above 80: {above_80}\")"
   ]
  },
  {
   "cell_type": "markdown",
   "id": "df41cfd4",
   "metadata": {},
   "source": [
    "3. Shopping Cart:"
   ]
  },
  {
   "cell_type": "code",
   "execution_count": 41,
   "id": "10c93efe",
   "metadata": {},
   "outputs": [
    {
     "name": "stdout",
     "output_type": "stream",
     "text": [
      "Current cart:\n",
      "Laptop: $999.99\n",
      "Mouse: $25.5\n",
      "Keyboard: $50.0\n",
      "Total after removing mouse: $1049.99\n"
     ]
    }
   ],
   "source": [
    "cart = []\n",
    "\n",
    "def add_item(item, price):\n",
    "    cart.append({\"item\": item, \"price\": price})\n",
    "\n",
    "def remove_item(item):\n",
    "    for product in cart:\n",
    "        if product[\"item\"] == item:\n",
    "            cart.remove(product)\n",
    "            return\n",
    "    print(f\"{item} not found in cart.\")\n",
    "\n",
    "def calculate_total():\n",
    "    return sum(product[\"price\"] for product in cart)\n",
    "\n",
    "# Using the shopping cart\n",
    "add_item(\"Laptop\", 999.99)\n",
    "add_item(\"Mouse\", 25.50)\n",
    "add_item(\"Keyboard\", 50.00)\n",
    "\n",
    "print(\"Current cart:\")\n",
    "for product in cart:\n",
    "    print(f\"{product['item']}: ${product['price']}\")\n",
    "\n",
    "remove_item(\"Mouse\")\n",
    "print(f\"Total after removing mouse: ${calculate_total():.2f}\")"
   ]
  },
  {
   "cell_type": "markdown",
   "id": "128e16c3",
   "metadata": {},
   "source": [
    "**2.4 Dictionaries**\n",
    "- Dictionaries in Python are unordered, mutable collections of key-value pairs. They are also known as associative arrays, hash tables, or hash maps in other programming languages.\n",
    "- Dictionary is a built in data type in Python mainly used for mapping purpose. In a dictionary, each key must be unique and is associated with a corresponding value. The combination of a key and its associated value is referred to as a “key-value pair.\" "
   ]
  },
  {
   "cell_type": "code",
   "execution_count": 6,
   "id": "c8efb3c7",
   "metadata": {},
   "outputs": [
    {
     "name": "stdout",
     "output_type": "stream",
     "text": [
      "{'name': 'Alice', 'age': 30, 'city': 'Kathmandu'}\n",
      "{'string': 'Hello', 'number': 21, 'list': [1, 2, 4]}\n",
      "Alice\n",
      "Hello\n"
     ]
    }
   ],
   "source": [
    "# Creating dictionaries\n",
    "empty_dict = {}\n",
    "person_dict = {\n",
    "    \"name\": \"Alice\",\n",
    "    \"age\": 30,\n",
    "    \"city\": \"Kathmandu\"\n",
    "}\n",
    "print(person_dict)\n",
    "\n",
    "mixed_dict = {\n",
    "    \"string\": \"Hello\",\n",
    "    \"number\": 21,\n",
    "    \"list\": [1, 2, 4]\n",
    "}\n",
    "print(mixed_dict)\n",
    "\n",
    "# Accessing values\n",
    "print(person_dict[\"name\"])\n",
    "\n",
    "# Using get() method\n",
    "print(mixed_dict.get(\"string\"))"
   ]
  },
  {
   "cell_type": "code",
   "execution_count": 14,
   "id": "ca0751ee",
   "metadata": {
    "scrolled": true
   },
   "outputs": [
    {
     "name": "stdout",
     "output_type": "stream",
     "text": [
      "After adding Rating: \n",
      "{'name': 'Jack Sprow', 'age': 30, 'major': 'sea piracy', 'Rating': 8.5}\n",
      "After updating new data: \n",
      "{'name': 'Jack Sprow', 'age': 21, 'major': 'sea piracy', 'Rating': 8.5, 'year': 'Sophomore'}\n"
     ]
    }
   ],
   "source": [
    "# Dictionary Methods and Operations:\n",
    "pirate = {\"name\": \"Jack Sprow\", \"age\": 30, \"major\": \"sea piracy\"}\n",
    "\n",
    "# Adding or updating key-value pair\n",
    "pirate[\"Rating\"] = 8.5\n",
    "print(f\"After adding Rating: \\n{pirate}\")\n",
    "pirate.update({\"year\": \"Sophomore\", \"age\": 21})\n",
    "print(f\"After updating new data: \\n{pirate}\")"
   ]
  },
  {
   "cell_type": "code",
   "execution_count": 15,
   "id": "c447fb55",
   "metadata": {},
   "outputs": [
    {
     "name": "stdout",
     "output_type": "stream",
     "text": [
      "5\n",
      "dict_keys(['name', 'age', 'major', 'Rating', 'year'])\n",
      "dict_values(['Jack Sprow', 21, 'sea piracy', 8.5, 'Sophomore'])\n",
      "dict_items([('name', 'Jack Sprow'), ('age', 21), ('major', 'sea piracy'), ('Rating', 8.5), ('year', 'Sophomore')])\n",
      "Name is present in dictionary\n",
      "{}\n"
     ]
    }
   ],
   "source": [
    "# Other useful methods\n",
    "print(len(pirate))\n",
    "print(pirate.keys())\n",
    "print(pirate.values())\n",
    "print(pirate.items())\n",
    "\n",
    "# Checking if a key exists\n",
    "if \"name\" in pirate:\n",
    "    print(\"Name is present in dictionary\")\n",
    "\n",
    "# Clearing a dictionary\n",
    "pirate.clear()\n",
    "print(pirate)"
   ]
  },
  {
   "cell_type": "code",
   "execution_count": 20,
   "id": "8cd465d0",
   "metadata": {},
   "outputs": [
    {
     "name": "stdout",
     "output_type": "stream",
     "text": [
      "Mr. Sprow\n"
     ]
    }
   ],
   "source": [
    "# Nested Dictionary\n",
    "school = {\n",
    "    \"class_a\": {\"teacher\": \"Mr. Sprow\", \"students\": 25},\n",
    "    \"class_b\": {\"teacher\": \"Mr. Barbosa\", \"students\": 30}\n",
    "}\n",
    "print(school['class_a']['teacher'])"
   ]
  },
  {
   "cell_type": "code",
   "execution_count": 21,
   "id": "0e1d14be",
   "metadata": {},
   "outputs": [
    {
     "name": "stdout",
     "output_type": "stream",
     "text": [
      "Alice: 85\n",
      "Bob: 92\n",
      "Charlie: 78\n",
      "Alice: 85\n",
      "Bob: 92\n",
      "Charlie: 78\n",
      "Top student: Bob with score 92\n"
     ]
    }
   ],
   "source": [
    "# Common Operations:\n",
    "grades = {\"Alice\": 85, \"Bob\": 92, \"Charlie\": 78}\n",
    "\n",
    "# Iterating through a dictionary\n",
    "for name in grades:\n",
    "    print(f\"{name}: {grades[name]}\")\n",
    "\n",
    "# Better way to iterate (returns tuples)\n",
    "for name, grade in grades.items():\n",
    "    print(f\"{name}: {grade}\")\n",
    "\n",
    "# Getting all keys and values\n",
    "names = list(grades.keys())\n",
    "scores = list(grades.values())\n",
    "\n",
    "# Finding the highest score\n",
    "top_student = max(grades, key=grades.get)\n",
    "print(f\"Top student: {top_student} with score {grades[top_student]}\")"
   ]
  },
  {
   "cell_type": "markdown",
   "id": "64db01b3",
   "metadata": {},
   "source": [
    "1. Contact Book:"
   ]
  },
  {
   "cell_type": "code",
   "execution_count": 24,
   "id": "7cb20c45",
   "metadata": {},
   "outputs": [
    {
     "name": "stdout",
     "output_type": "stream",
     "text": [
      "{'phone': '987-654-3210', 'email': 'sita@example.com'}\n",
      "Ram: 123-456-7890, ram@example.com\n",
      "Sita: 987-654-3210, sita@example.com\n",
      "Hari: 987-654-3210, hari@example.com\n"
     ]
    }
   ],
   "source": [
    "contacts = {}\n",
    "\n",
    "def add_contact(name, phone, email):\n",
    "    contacts[name] = {\"phone\": phone, \"email\": email}\n",
    "\n",
    "def get_contact(name):\n",
    "    return contacts.get(name, \"Contact not found\")\n",
    "\n",
    "def display_all_contacts():\n",
    "    for name, info in contacts.items():\n",
    "        print(f\"{name}: {info['phone']}, {info['email']}\")\n",
    "\n",
    "# Using the contact book\n",
    "add_contact(\"Ram\", \"123-456-7890\", \"ram@example.com\")\n",
    "add_contact(\"Sita\", \"987-654-3210\", \"sita@example.com\")\n",
    "add_contact(\"Hari\", \"987-654-3210\", \"hari@example.com\")\n",
    "\n",
    "print(get_contact(\"Sita\"))\n",
    "display_all_contacts()"
   ]
  },
  {
   "cell_type": "markdown",
   "id": "130474a3",
   "metadata": {},
   "source": [
    "2. Product Inventory:"
   ]
  },
  {
   "cell_type": "code",
   "execution_count": 25,
   "id": "484d7658",
   "metadata": {},
   "outputs": [
    {
     "name": "stdout",
     "output_type": "stream",
     "text": [
      "Total inventory value: $17549.85\n"
     ]
    }
   ],
   "source": [
    "inventory = {}\n",
    "\n",
    "def add_product(name, price, quantity):\n",
    "    inventory[name] = {\"price\": price, \"quantity\": quantity}\n",
    "\n",
    "def update_quantity(name, quantity):\n",
    "    if name in inventory:\n",
    "        inventory[name][\"quantity\"] += quantity\n",
    "    else:\n",
    "        print(f\"Product {name} not found in inventory.\")\n",
    "\n",
    "def get_total_value():\n",
    "    return sum(item[\"price\"] * item[\"quantity\"] for item in inventory.values())\n",
    "\n",
    "# Using the inventory system\n",
    "add_product(\"Laptop\", 999.99, 10)\n",
    "add_product(\"Mouse\", 25.50, 100)\n",
    "update_quantity(\"Laptop\", 5)\n",
    "\n",
    "print(f\"Total inventory value: ${get_total_value():.2f}\")"
   ]
  },
  {
   "cell_type": "markdown",
   "id": "536019be",
   "metadata": {},
   "source": [
    "3. Word Frequency Counter:"
   ]
  },
  {
   "cell_type": "code",
   "execution_count": 26,
   "id": "880868cc",
   "metadata": {},
   "outputs": [
    {
     "name": "stdout",
     "output_type": "stream",
     "text": [
      "the: 3\n",
      "quick: 1\n",
      "brown: 1\n",
      "fox: 1\n",
      "jumps: 1\n",
      "over: 1\n",
      "lazy: 1\n",
      "dog.: 1\n",
      "dog: 1\n",
      "barks.: 1\n"
     ]
    }
   ],
   "source": [
    "def word_frequency(text):\n",
    "    words = text.lower().split()\n",
    "    frequency = {}\n",
    "    for word in words:\n",
    "        frequency[word] = frequency.get(word, 0) + 1\n",
    "    return frequency\n",
    "\n",
    "# Example usage\n",
    "sample_text = \"The quick brown fox jumps over the lazy dog. The dog barks.\"\n",
    "result = word_frequency(sample_text)\n",
    "\n",
    "# Display results\n",
    "for word, count in sorted(result.items(), key=lambda x: x[1], reverse=True):\n",
    "    print(f\"{word}: {count}\")"
   ]
  },
  {
   "cell_type": "markdown",
   "id": "658e5487",
   "metadata": {},
   "source": [
    "4. Menu and Order System:"
   ]
  },
  {
   "cell_type": "code",
   "execution_count": 28,
   "id": "f5752bd3",
   "metadata": {},
   "outputs": [
    {
     "name": "stdout",
     "output_type": "stream",
     "text": [
      "Menu:\n",
      "Burger: $5.99\n",
      "Fries: $2.50\n",
      "Drink: $1.99\n",
      "Salad: $4.50\n",
      "Enter an item (or 'done' to finish): Burger\n",
      "How many burgers? 10\n",
      "Enter an item (or 'done' to finish): Drink\n",
      "How many drinks? 1\n",
      "Enter an item (or 'done' to finish): done\n",
      "Order total: $61.89\n"
     ]
    }
   ],
   "source": [
    "menu = {\n",
    "    \"burger\": 5.99,\n",
    "    \"fries\": 2.50,\n",
    "    \"drink\": 1.99,\n",
    "    \"salad\": 4.50\n",
    "}\n",
    "\n",
    "def display_menu():\n",
    "    print(\"Menu:\")\n",
    "    for item, price in menu.items():\n",
    "        print(f\"{item.capitalize()}: ${price:.2f}\")\n",
    "\n",
    "def take_order():\n",
    "    order = {}\n",
    "    while True:\n",
    "        item = input(\"Enter an item (or 'done' to finish): \").lower()\n",
    "        if item == 'done':\n",
    "            break\n",
    "        if item in menu:\n",
    "            quantity = int(input(f\"How many {item}s? \"))\n",
    "            order[item] = order.get(item, 0) + quantity\n",
    "        else:\n",
    "            print(\"Sorry, that item is not on the menu.\")\n",
    "    return order\n",
    "\n",
    "def calculate_total(order):\n",
    "    return sum(menu[item] * quantity for item, quantity in order.items())\n",
    "\n",
    "# Run the ordering system\n",
    "display_menu()\n",
    "customer_order = take_order()\n",
    "total = calculate_total(customer_order)\n",
    "print(f\"Order total: ${total:.2f}\")"
   ]
  },
  {
   "cell_type": "markdown",
   "id": "fc1ebe03",
   "metadata": {},
   "source": [
    "**2.5 Booleans, Tuples & Sets**\n",
    "- Booleans: \n",
    "    - These are operators with either True or False value. Booleans are of ‘bool’ type.\n",
    "- Tuples: \n",
    "    - Tuples are immutable data types with a collection of different types of data. It does not support object assignment. They are used for passing objects without getting changed for data integrity. It is written with a small bracket. Let us see an example for clarity.\n",
    "\n",
    "    - Note that Tuples operations are similar to the Lists. Except, Tuples are not mutable and defined with small brackets.\n",
    "- Sets:\n",
    "    - Sets are used to store multiple items in a single variable. Set is one of 4 built-in data types in Python used to store collections of data."
   ]
  },
  {
   "cell_type": "code",
   "execution_count": 7,
   "id": "e6c7e9d6",
   "metadata": {},
   "outputs": [
    {
     "name": "stdout",
     "output_type": "stream",
     "text": [
      "True\n",
      "False\n",
      "\n",
      "\n",
      "True\n",
      "\n",
      "\n",
      "True\n",
      "False\n",
      "False\n",
      "False\n",
      "True\n"
     ]
    }
   ],
   "source": [
    "# Creating Booleans\n",
    "is_sunny = True\n",
    "is_raining = False\n",
    "\n",
    "# Comparision Operations\n",
    "x = 10\n",
    "y = 16\n",
    "is_greater = x < y\n",
    "is_equal = x == y\n",
    "print(is_greater)\n",
    "print(is_equal)\n",
    "print(\"\\n\")\n",
    "\n",
    "# Logical Oprerations\n",
    "is_weekend = False\n",
    "is_holiday = True\n",
    "can_sleep_in = is_weekend or is_holiday \n",
    "print(can_sleep_in)\n",
    "print(\"\\n\")\n",
    "\n",
    "# Boolean Conversion\n",
    "print(bool(1))\n",
    "print(bool(0))\n",
    "print(bool(''))\n",
    "print(bool([]))\n",
    "print(bool([0]))"
   ]
  },
  {
   "cell_type": "markdown",
   "id": "ec8690f2",
   "metadata": {},
   "source": [
    "1. Real-world example: Simple thermostat"
   ]
  },
  {
   "cell_type": "code",
   "execution_count": 8,
   "id": "4cce4d83",
   "metadata": {},
   "outputs": [
    {
     "name": "stdout",
     "output_type": "stream",
     "text": [
      "True\n",
      "False\n"
     ]
    }
   ],
   "source": [
    "def thermostat(current_temp, desired_temp, is_ac_on):\n",
    "    if current_temp > desired_temp and not is_ac_on:\n",
    "        return True  # Turn AC on\n",
    "    elif current_temp <= desired_temp and is_ac_on:\n",
    "        return False  # Turn AC off\n",
    "    else:\n",
    "        return is_ac_on  # Maintain current state\n",
    "\n",
    "# Using the thermostat\n",
    "print(thermostat(28, 25, False))  # True (turn AC on)\n",
    "print(thermostat(23, 25, True))   # False (turn AC off)"
   ]
  },
  {
   "cell_type": "code",
   "execution_count": 16,
   "id": "bd3b6a05",
   "metadata": {},
   "outputs": [
    {
     "name": "stdout",
     "output_type": "stream",
     "text": [
      "two\n",
      "True\n",
      "1 two 3.0 True\n",
      "3\n",
      "4\n",
      "(4, 5, 6)\n",
      "(3, 4, 5, 6, 4, 5, 5, 5, 4, 6, 7)\n",
      "(1, [2, 3, 5], 4)\n"
     ]
    }
   ],
   "source": [
    "# Creating tuples\n",
    "empty_tuple = ()\n",
    "single_item_tuple = (1, )\n",
    "mixed_tuple = (1, 'two', 3.0, True)\n",
    "\n",
    "# Accessing elements of tuple\n",
    "print(mixed_tuple[1])\n",
    "print(mixed_tuple[-1])\n",
    "\n",
    "# Unpacking tuples\n",
    "a, b, c, d = mixed_tuple\n",
    "print(a, b, c, d)\n",
    "\n",
    "# Tuple methods \n",
    "coordinates = (3, 4, 5, 6, 4, 5, 5, 5, 4)\n",
    "print(coordinates.count(4))\n",
    "print(coordinates.count(5))\n",
    "\n",
    "# Tuples are immutable\n",
    "# coordinates[0] = 10 \n",
    "\n",
    "# Slicing tuples\n",
    "print(coordinates[1:4])\n",
    "\n",
    "# Concatenating tuples\n",
    "combined = coordinates + (6, 7)\n",
    "print(combined)\n",
    "\n",
    "# Tuple with list \n",
    "flexible_data = (1, [2, 3], 4)\n",
    "flexible_data[1].append(5)\n",
    "print(flexible_data)"
   ]
  },
  {
   "cell_type": "markdown",
   "id": "effd9c1a",
   "metadata": {},
   "source": [
    "1. Real-world example: Representing a point in 3D space"
   ]
  },
  {
   "cell_type": "code",
   "execution_count": 17,
   "id": "6babd452",
   "metadata": {},
   "outputs": [
    {
     "name": "stdout",
     "output_type": "stream",
     "text": [
      "Distance from origin to point A: 7.0710678118654755\n"
     ]
    }
   ],
   "source": [
    "def calculate_distance(point1, point2):\n",
    "    return ((point1[0] - point2[0])**2 + \n",
    "            (point1[1] - point2[1])**2 + \n",
    "            (point1[2] - point2[2])**2) ** 0.5\n",
    "\n",
    "# Using tuples to represent 3D points\n",
    "origin = (0, 0, 0)\n",
    "point_a = (3, 4, 5)\n",
    "\n",
    "distance = calculate_distance(origin, point_a)\n",
    "print(f\"Distance from origin to point A: {distance}\")"
   ]
  },
  {
   "cell_type": "code",
   "execution_count": 30,
   "id": "ae70ab1e",
   "metadata": {},
   "outputs": [
    {
     "name": "stdout",
     "output_type": "stream",
     "text": [
      "{2, 4, 5, 6}\n",
      "{1, 2, 3, 4, 5, 6, 7, 8}\n",
      "{4, 5}\n",
      "{1, 2, 3}\n",
      "{1, 2, 3, 6, 7, 8}\n"
     ]
    }
   ],
   "source": [
    "# Creating sets \n",
    "empty_set = set() # Note: {} creates an empty directory, not set\n",
    "numbers = {1, 2, 3, 4, 5}\n",
    "mixed_set = {1, 'two', (3,4)}\n",
    "\n",
    "# Adding and removing elements\n",
    "numbers.add(6)\n",
    "numbers.remove(3)\n",
    "numbers.discard(1)\n",
    "\n",
    "print(numbers)\n",
    "\n",
    "# Set operations\n",
    "set1 = {1, 2, 3, 4, 5}\n",
    "set2 = {4, 5, 6, 7, 8}\n",
    "\n",
    "union = set1 | set2 # or set1.union(set2)\n",
    "print(union)\n",
    "\n",
    "intersection = set1 & set2 # or set1.intersection(set2)\n",
    "print(intersection)\n",
    "\n",
    "differences = set1.difference(set2) # or set1 - set2\n",
    "print(differences)\n",
    "\n",
    "symmertic_differences = set1.symmetric_difference(set2) # or set1 ^ set2\n",
    "print(symmertic_differences)"
   ]
  },
  {
   "cell_type": "markdown",
   "id": "2391e40b",
   "metadata": {},
   "source": [
    "1. Real-world example: Unique visitor tracker"
   ]
  },
  {
   "cell_type": "code",
   "execution_count": 31,
   "id": "8dbdbb54",
   "metadata": {},
   "outputs": [
    {
     "name": "stdout",
     "output_type": "stream",
     "text": [
      "Daily unique visitors: 2\n",
      "Total unique visitors: 2\n",
      "Daily unique visitors after reset: 1\n",
      "Total unique visitors: 3\n"
     ]
    }
   ],
   "source": [
    "class VisitorTracker:\n",
    "    def __init__(self):\n",
    "        self.daily_visitors = set()\n",
    "        self.total_visitors = set()\n",
    "    \n",
    "    def record_visit(self, user_id):\n",
    "        self.daily_visitors.add(user_id)\n",
    "        self.total_visitors.add(user_id)\n",
    "    \n",
    "    def get_daily_unique_visitors(self):\n",
    "        return len(self.daily_visitors)\n",
    "    \n",
    "    def get_total_unique_visitors(self):\n",
    "        return len(self.total_visitors)\n",
    "    \n",
    "    def reset_daily_visitors(self):\n",
    "        self.daily_visitors.clear()\n",
    "\n",
    "# Using the visitor tracker\n",
    "tracker = VisitorTracker()\n",
    "tracker.record_visit(\"user1\")\n",
    "tracker.record_visit(\"user2\")\n",
    "tracker.record_visit(\"user1\")  # Duplicate, won't be counted twice\n",
    "\n",
    "print(f\"Daily unique visitors: {tracker.get_daily_unique_visitors()}\")\n",
    "print(f\"Total unique visitors: {tracker.get_total_unique_visitors()}\")\n",
    "\n",
    "tracker.reset_daily_visitors()\n",
    "tracker.record_visit(\"user3\")\n",
    "\n",
    "print(f\"Daily unique visitors after reset: {tracker.get_daily_unique_visitors()}\")\n",
    "print(f\"Total unique visitors: {tracker.get_total_unique_visitors()}\")"
   ]
  },
  {
   "cell_type": "markdown",
   "id": "3ed231cc",
   "metadata": {},
   "source": [
    "**3. Comparison Operators**\n",
    "Comparison operators are used to compare values. They return Boolean results (True or False).\n",
    "\n",
    "Key Comparison Operators:\n",
    "- == : Equal to\n",
    "- != : Not equal to\n",
    "- `>`  : Greater than\n",
    "- `<`  : Less than\n",
    "- `>=` : Greater than or equal to\n",
    "- `<=` : Less than or equal to\n",
    "- is : Object identity\n",
    "- is not : Negated object identity"
   ]
  },
  {
   "cell_type": "code",
   "execution_count": 35,
   "id": "f3b331eb",
   "metadata": {},
   "outputs": [
    {
     "name": "stdout",
     "output_type": "stream",
     "text": [
      "False\n",
      "True\n",
      "False\n",
      "True\n",
      "True\n",
      "False\n",
      "\n",
      "\n",
      "True\n",
      "False\n",
      "\n",
      "\n",
      "True\n",
      "False\n",
      "True\n",
      "False\n",
      "False\n",
      "True\n"
     ]
    }
   ],
   "source": [
    "# Basic Comparisions\n",
    "x = 10\n",
    "y = 50\n",
    "\n",
    "print(x == y)\n",
    "print(x != y)\n",
    "print(x > y)\n",
    "print(x < y)\n",
    "print(x >= 10)\n",
    "print(y <= 25)\n",
    "print('\\n')\n",
    "\n",
    "# String Comparision (lexicographical order)\n",
    "print(\"apple\" < \"banana\")\n",
    "print(\"hello\" == \"Hello\") \n",
    "print('\\n')\n",
    "\n",
    "# Identity comparisions\n",
    "a = [1, 2, 3]\n",
    "b = [1, 2, 3]\n",
    "c = a\n",
    "print(a == b)\n",
    "print(a is b)\n",
    "print(a is c)\n",
    "\n",
    "# Chaining Comparisions\n",
    "z = 70\n",
    "print(x < z < y)\n",
    "\n",
    "# Comparing different types\n",
    "print(5 == '5')\n",
    "print(5 == 5.0)"
   ]
  },
  {
   "cell_type": "markdown",
   "id": "2646d940",
   "metadata": {},
   "source": [
    "1. Real-world example: Age verification"
   ]
  },
  {
   "cell_type": "code",
   "execution_count": 36,
   "id": "c3e7b796",
   "metadata": {},
   "outputs": [
    {
     "name": "stdout",
     "output_type": "stream",
     "text": [
      "You must be at least 13 to use this service.\n",
      "You can use the service with parental consent.\n",
      "You can use the service without restrictions.\n"
     ]
    }
   ],
   "source": [
    "def check_age_restrictions(age):\n",
    "    if age < 13:\n",
    "        return \"You must be at least 13 to use this service.\"\n",
    "    elif 13 <= age < 18:\n",
    "        return \"You can use the service with parental consent.\"\n",
    "    else:\n",
    "        return \"You can use the service without restrictions.\"\n",
    "\n",
    "# Test the function\n",
    "print(check_age_restrictions(10))\n",
    "print(check_age_restrictions(15))\n",
    "print(check_age_restrictions(20))"
   ]
  },
  {
   "cell_type": "code",
   "execution_count": null,
   "id": "399d4115",
   "metadata": {},
   "outputs": [],
   "source": []
  }
 ],
 "metadata": {
  "kernelspec": {
   "display_name": "Python 3 (ipykernel)",
   "language": "python",
   "name": "python3"
  },
  "language_info": {
   "codemirror_mode": {
    "name": "ipython",
    "version": 3
   },
   "file_extension": ".py",
   "mimetype": "text/x-python",
   "name": "python",
   "nbconvert_exporter": "python",
   "pygments_lexer": "ipython3",
   "version": "3.11.5"
  }
 },
 "nbformat": 4,
 "nbformat_minor": 5
}
